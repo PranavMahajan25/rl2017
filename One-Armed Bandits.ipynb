{
 "cells": [
  {
   "cell_type": "code",
   "execution_count": 2,
   "metadata": {
    "collapsed": true
   },
   "outputs": [],
   "source": [
    "import numpy as np\n",
    "import tensorflow as tf\n",
    "np.random.seed(42)"
   ]
  },
  {
   "cell_type": "code",
   "execution_count": 3,
   "metadata": {
    "collapsed": true
   },
   "outputs": [],
   "source": [
    "bandit_arms = [0.2,0.4,-0.3,-3]\n",
    "num_arms = 4\n",
    "def getReward(bandit):\n",
    "    x = np.random.randn(1)\n",
    "    if x > bandit:\n",
    "        return 2\n",
    "    else:\n",
    "        return -2"
   ]
  },
  {
   "cell_type": "code",
   "execution_count": 4,
   "metadata": {
    "collapsed": true
   },
   "outputs": [],
   "source": [
    "weights = np.ones(num_arms)"
   ]
  },
  {
   "cell_type": "code",
   "execution_count": 5,
   "metadata": {},
   "outputs": [
    {
     "name": "stdout",
     "output_type": "stream",
     "text": [
      "[ 1.  1.  1.  1.]\n"
     ]
    }
   ],
   "source": [
    "print(weights)"
   ]
  },
  {
   "cell_type": "code",
   "execution_count": 6,
   "metadata": {
    "collapsed": true
   },
   "outputs": [],
   "source": [
    "def getWeight(action):\n",
    "    return weights[action]"
   ]
  },
  {
   "cell_type": "code",
   "execution_count": 7,
   "metadata": {
    "collapsed": true
   },
   "outputs": [],
   "source": [
    "total_episodes = 1000\n",
    "total_rewards = np.zeros(num_arms)\n",
    "i = 0\n",
    "lr = 0.001"
   ]
  },
  {
   "cell_type": "code",
   "execution_count": 8,
   "metadata": {},
   "outputs": [
    {
     "name": "stdout",
     "output_type": "stream",
     "text": [
      "Scoreboard: [ 0.  0. -2.  0.]\n",
      "Scoreboard: [ -4. -10.   6.  30.]\n",
      "Scoreboard: [-10. -16.  20.  56.]\n",
      "Scoreboard: [-14. -26.   4.  86.]\n",
      "Scoreboard: [ -18.  -40.    2.  114.]\n",
      "Scoreboard: [ -18.  -44.    6.  134.]\n",
      "Scoreboard: [ -34.  -50.    4.  158.]\n",
      "Scoreboard: [ -48.  -48.   26.  168.]\n",
      "Scoreboard: [ -56.  -48.   40.  190.]\n",
      "Scoreboard: [ -48.  -62.   54.  218.]\n",
      "Scoreboard: [ -58.  -62.   58.  248.]\n",
      "Scoreboard: [ -68.  -70.   62.  266.]\n",
      "Scoreboard: [ -70.  -76.   64.  288.]\n",
      "Scoreboard: [ -74.  -84.   72.  308.]\n",
      "Scoreboard: [ -78.  -90.   80.  334.]\n",
      "Scoreboard: [ -86.  -94.   88.  370.]\n",
      "Scoreboard: [ -98.  -98.   86.  404.]\n",
      "Scoreboard: [ -84. -110.   82.  422.]\n",
      "Scoreboard: [ -80. -130.   90.  446.]\n",
      "Scoreboard: [ -90. -144.   88.  472.]\n"
     ]
    }
   ],
   "source": [
    "while i < total_episodes:\n",
    "    \n",
    "    action = np.random.randint(0,4)\n",
    "    \n",
    "    output = getWeight(action)\n",
    "    \n",
    "    reward = getReward(bandit_arms[action])\n",
    "    \n",
    "    loss = - (tf.log(output)*reward)\n",
    "    \n",
    "    weights[action] = weights[action]+lr*reward*(1/output)\n",
    "    \n",
    "    total_rewards[action]+=reward\n",
    "    \n",
    "    if i%50==0:\n",
    "        print(\"Scoreboard: \"+str(total_rewards))\n",
    "    \n",
    "    i+=1\n",
    "    \n",
    "    "
   ]
  },
  {
   "cell_type": "code",
   "execution_count": 9,
   "metadata": {},
   "outputs": [
    {
     "name": "stdout",
     "output_type": "stream",
     "text": [
      "[ 0.899533    0.82772743  1.08486873  1.40736999]\n"
     ]
    }
   ],
   "source": [
    "print(weights)"
   ]
  },
  {
   "cell_type": "code",
   "execution_count": 10,
   "metadata": {},
   "outputs": [
    {
     "data": {
      "text/plain": [
       "3"
      ]
     },
     "execution_count": 10,
     "metadata": {},
     "output_type": "execute_result"
    }
   ],
   "source": [
    "np.argmax(weights)"
   ]
  },
  {
   "cell_type": "code",
   "execution_count": null,
   "metadata": {
    "collapsed": true
   },
   "outputs": [],
   "source": []
  },
  {
   "cell_type": "code",
   "execution_count": null,
   "metadata": {
    "collapsed": true
   },
   "outputs": [],
   "source": []
  }
 ],
 "metadata": {
  "kernelspec": {
   "display_name": "Python 3",
   "language": "python",
   "name": "python3"
  },
  "language_info": {
   "codemirror_mode": {
    "name": "ipython",
    "version": 3
   },
   "file_extension": ".py",
   "mimetype": "text/x-python",
   "name": "python",
   "nbconvert_exporter": "python",
   "pygments_lexer": "ipython3",
   "version": "3.6.0"
  }
 },
 "nbformat": 4,
 "nbformat_minor": 2
}

{
 "cells": [
  {
   "cell_type": "code",
   "execution_count": 1,
   "metadata": {
    "collapsed": false
   },
   "outputs": [
    {
     "name": "stderr",
     "output_type": "stream",
     "text": [
      "Using TensorFlow backend.\n"
     ]
    }
   ],
   "source": [
    "import random\n",
    "import os\n",
    "import operator\n",
    "\n",
    "from skimage import io, color, transform\n",
    "\n",
    "import numpy as np"
   ]
  },
  {
   "cell_type": "code",
   "execution_count": null,
   "metadata": {
    "collapsed": true
   },
   "outputs": [],
   "source": [
    "class Agent:\n",
    "\n",
    "    def __init__(self, epsilon= , experience_replay_capacity= , minibatch_size= , learning_rate= ):\n",
    "        \n",
    "    def append_experience_replay_example(self, experience_replay_example):\n",
    "        \"\"\"\n",
    "        Add an experience replay example to our agent's replay memory. If\n",
    "        memory is full, overwrite previous examples, starting with the oldest\n",
    "        \"\"\"\n",
    "        \n",
    "    def preprocess_observation(self, observation, prediction=False):\n",
    "        \"\"\"\n",
    "        Helper function for preprocessing an observation for consumption by our\n",
    "        deep learning network\n",
    "        \"\"\"\n",
    "        grayscale_observation = color.rgb2gray(observation)\n",
    "        resized_observation = transform.resize(grayscale_observation, (1, self.processed_image_dim, self.processed_image_dim)).astype('float32')\n",
    "        if prediction:\n",
    "            resized_observation = np.expand_dims(resized_observation, 0)\n",
    "        return resized_observation\n",
    "        \n",
    "    def take_action(self, observation, log_path, episode_count):\n",
    "        \"\"\"\n",
    "        Given an observation, the model attempts to take an action\n",
    "        according to its q-function approximation\n",
    "        \"\"\"\n",
    "        \n",
    "    def learn(self):\n",
    "        \"\"\"\n",
    "        Allow the model to collect examples from its experience replay memory\n",
    "        and learn from them\n",
    "        \"\"\"\n"
   ]
  },
  {
   "cell_type": "code",
   "execution_count": null,
   "metadata": {
    "collapsed": true
   },
   "outputs": [],
   "source": [
    "import gym\n",
    "\n",
    "from skimage import io, color, transform\n",
    "import numpy as np\n",
    "import os\n",
    "import random\n",
    "\n",
    "from agent import Agent\n",
    "\n",
    "\n",
    "#####\n",
    "# Hyperparameters\n",
    "#####\n",
    "\n",
    "GAME_TYPE = 'MsPacman-v0'\n",
    "\n",
    "#environment parameters\n",
    "NUM_EPISODES = \n",
    "MAX_TIMESTEPS = \n",
    "FRAME_SKIP = \n",
    "PHI_LENGTH = 4\n",
    "\n",
    "#agent parameters\n",
    "NAIVE_RANDOM = \n",
    "EPSILON = \n",
    "EXPERIENCE_REPLAY_CAPACITY = \n",
    "MINIBATCH_SIZE = \n",
    "LEARNING_RATE = \n",
    "PREPROCESS_IMAGE_DIM = 84\n",
    "\n",
    "def preprocess_observation(observation):\n",
    "    \"\"\"\n",
    "    preprocesses a given observation following the steps described in the paper\n",
    "    \"\"\"\n",
    "    grayscale_observation = color.rgb2gray(observation)\n",
    "    resized_observation = transform.resize(grayscale_observation, (PREPROCESS_IMAGE_DIM, PREPROCESS_IMAGE_DIM)).astype('float32')\n",
    "    return resized_observation\n",
    "\n",
    "def run_simulation():\n",
    "    \"\"\"\n",
    "    Entry-point for running Ms. Pac-man simulation\n",
    "    \"\"\"\n",
    "\n",
    "\n",
    "\n",
    "    #print game parameters\n",
    "    print (\"~~~Environment Parameters~~~\")\n",
    "    print (\"Num episodes: %s\" % NUM_EPISODES)\n",
    "    print (\"Max timesteps: %s\" % MAX_TIMESTEPS)\n",
    "    print (\"Action space: %s\" % env.action_space)\n",
    "    print()\n",
    "    print (\"~~~Agent Parameters~~~\")\n",
    "    print (\"Naive Random: %s\" % NAIVE_RANDOM)\n",
    "    print (\"Epsilon: %s\" % EPSILON)\n",
    "    print (\"Experience Replay Capacity: %s\" % EXPERIENCE_REPLAY_CAPACITY)\n",
    "    print (\"Minibatch Size: %s\" % MINIBATCH_SIZE)\n",
    "    print (\"Learning Rate: %s\" % LEARNING_RATE)\n",
    "\n",
    "    #initialize agent\n",
    "    agent = Agent(epsilon=EPSILON,\n",
    "                experience_replay_capacity=EXPERIENCE_REPLAY_CAPACITY,\n",
    "                minibatch_size=MINIBATCH_SIZE,\n",
    "                learning_rate=LEARNING_RATE)\n",
    "\n",
    "    #initialize auxiliary data structures\n",
    "    state_list = [] \n",
    "    tot_frames = 0\n",
    "\n",
    "    for i_episode in range(NUM_EPISODES):\n",
    "        print (\"Episode: %s\" % i_episode)\n",
    "\n",
    "\n",
    "        \n",
    "\n",
    "        while True:\n",
    "\n",
    "            \n",
    "            \n",
    "            #ensure state list is populated\n",
    "            if tot_frames < PHI_LENGTH:\n",
    "                state_list.append(preprocess_observation(observation))\n",
    "                tot_frames += 1\n",
    "                continue\n",
    "\n",
    "\n",
    "\n",
    "                #update state list with next observation\n",
    "                state_list.append(preprocess_observation(observation))\n",
    "                state_list.pop(0)\n",
    "                \n",
    "\n",
    "\n",
    "\n",
    "\n",
    "\n",
    "\n",
    "\n"
   ]
  },
  {
   "cell_type": "code",
   "execution_count": null,
   "metadata": {
    "collapsed": true
   },
   "outputs": [],
   "source": [
    "run_simulation()"
   ]
  }
 ],
 "metadata": {
  "kernelspec": {
   "display_name": "Python [conda root]",
   "language": "python",
   "name": "conda-root-py"
  },
  "language_info": {
   "codemirror_mode": {
    "name": "ipython",
    "version": 3
   },
   "file_extension": ".py",
   "mimetype": "text/x-python",
   "name": "python",
   "nbconvert_exporter": "python",
   "pygments_lexer": "ipython3",
   "version": "3.5.2"
  }
 },
 "nbformat": 4,
 "nbformat_minor": 1
}
